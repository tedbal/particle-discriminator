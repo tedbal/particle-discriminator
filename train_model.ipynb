{
 "cells": [
  {
   "cell_type": "markdown",
   "metadata": {},
   "source": [
    "# Dependencies"
   ]
  },
  {
   "cell_type": "code",
   "execution_count": 1,
   "metadata": {},
   "outputs": [],
   "source": [
    "# import \n",
    "from svm_discriminator import *\n",
    "\n",
    "# for other later use\n",
    "import pandas as pd\n",
    "import numpy as np\n",
    "import os"
   ]
  },
  {
   "cell_type": "markdown",
   "metadata": {},
   "source": [
    "# Load and use a generated model\n",
    "\n",
    "Loading and using the generated model is very, very simple. \n",
    "\n",
    "### Loading\n",
    "To load, we can use the `load_model(path_to_model)` function in the `svm_discriminator` library. You just need to provide the directory (`path_to_model`) with all the model files inside. This returns a `SVMSedimentDiscriminator`, which is assigned to the `classifier` variable below.\n",
    "\n",
    "### Classification\n",
    "To classify, you can use the `classifier.predict(samples)` method. `samples` is a (num_samples, 8) array which is read directly from the existing image processing output. This method returns a (num_samples, ) array, `prediction`. `prediction` is a logical array where `1` corresponds to sand and `0` corresponds to mud, and these are the model predictions.\n",
    "\n",
    "### Reading data from file\n",
    "Additionally, to read data immediately from the output of the image processing tools, use the `parse_output_from_file(file)` function, where `file` is a directory to a .csv or .xls(x) file. Note, that if you are predicting manually for whatever reason, and not using the `parse_output_from_file` function, you need to remove the first column of data (corresponding to \"Number\")."
   ]
  },
  {
   "cell_type": "code",
   "execution_count": 4,
   "metadata": {},
   "outputs": [
    {
     "name": "stdout",
     "output_type": "stream",
     "text": [
      "predicted: mud\n"
     ]
    }
   ],
   "source": [
    "# ===== STEP 1: LOAD THE MODEL =====\n",
    "# specify the path containing all three model output files\n",
    "model_path = os.path.abspath(r\"./generated_model\")\n",
    "classifier = load_model(model_path)\n",
    "\n",
    "# ===== STEP 2: CLASSIFY USING THE MODEL =====\n",
    "# build a sample to test that the model is working\n",
    "test_sample = np.array([[5000, 800, 100, 120, 0.38, 2, 0.44, 1.1]])\n",
    "\n",
    "# predict the output of the sample\n",
    "# note: 1 = sand, 0 = mud\n",
    "prediction = classifier.predict(test_sample) # prediction, confidence are arrays\n",
    "print(\"predicted: {}\".format(\"sand\" if prediction[0] else \"mud\"))"
   ]
  },
  {
   "cell_type": "markdown",
   "metadata": {},
   "source": [
    "That should be everything!"
   ]
  },
  {
   "cell_type": "markdown",
   "metadata": {},
   "source": [
    "# Train the Sediment Discriminator Model\n",
    "If you're curious, this part adds some specification to how the model is trained and its architecture."
   ]
  },
  {
   "cell_type": "markdown",
   "metadata": {},
   "source": [
    "The first step is to initialize the data used for training."
   ]
  },
  {
   "cell_type": "code",
   "execution_count": 7,
   "metadata": {},
   "outputs": [],
   "source": [
    "# the path to the data\n",
    "data_path = os.path.abspath(r\"./data/Combined_TrainData_Reduced.xlsx\")\n",
    "\n",
    "# read the training data \n",
    "training_data_array = parse_output_from_file(data_path)\n",
    "\n",
    "# separate the training data and the labels\n",
    "training_data = training_data_array[:,:-1] # exclude the label \n",
    "training_labels = training_data_array[:,-1]"
   ]
  },
  {
   "cell_type": "markdown",
   "metadata": {},
   "source": [
    "Initialize the model"
   ]
  },
  {
   "cell_type": "code",
   "execution_count": 8,
   "metadata": {},
   "outputs": [],
   "source": [
    "classifier = SVMSedimentDiscriminator()"
   ]
  },
  {
   "cell_type": "markdown",
   "metadata": {},
   "source": [
    "Plot the singular values of the training array to show how many dimensions should be in the latent space."
   ]
  },
  {
   "cell_type": "code",
   "execution_count": 9,
   "metadata": {},
   "outputs": [
    {
     "data": {
      "image/png": "[encoded data removed]",
      "text/plain": [
       "<Figure size 640x480 with 1 Axes>"
      ]
     },
     "metadata": {},
     "output_type": "display_data"
    }
   ],
   "source": [
    "u, s, v = np.linalg.svd(training_data)\n",
    "\n",
    "plt.plot(s)\n",
    "plt.xlabel('number of singular values')\n",
    "plt.ylabel('singular value')\n",
    "plt.show()"
   ]
  },
  {
   "cell_type": "code",
   "execution_count": 14,
   "metadata": {},
   "outputs": [
    {
     "name": "stdout",
     "output_type": "stream",
     "text": [
      "[-0.0087097   0.00677336  0.01647558 -0.0007071   0.01055987  0.00452344\n",
      "  0.01752631 -0.00305358]\n"
     ]
    }
   ],
   "source": [
    "print(u[0][0:8])"
   ]
  },
  {
   "cell_type": "markdown",
   "metadata": {},
   "source": [
    "Train and validate the model on the training data"
   ]
  },
  {
   "cell_type": "code",
   "execution_count": 5,
   "metadata": {},
   "outputs": [
    {
     "name": "stdout",
     "output_type": "stream",
     "text": [
      "fitting the support vector machine...\n",
      "done\n",
      "   mean_fit_time  std_fit_time  mean_score_time  std_score_time param_C  \\\n",
      "0       0.185945      0.034245         0.131460        0.025213      34   \n",
      "1       0.229833      0.031316         0.124578        0.037571      34   \n",
      "2       0.177584      0.035340         0.134012        0.026574      50   \n",
      "3       0.230663      0.016083         0.103852        0.019723      50   \n",
      "\n",
      "  param_gamma                     params  split0_test_score  \\\n",
      "0       0.009  {'C': 34, 'gamma': 0.009}           0.996046   \n",
      "1        0.09   {'C': 34, 'gamma': 0.09}           0.996924   \n",
      "2       0.009  {'C': 50, 'gamma': 0.009}           0.997364   \n",
      "3        0.09   {'C': 50, 'gamma': 0.09}           0.996924   \n",
      "\n",
      "   split1_test_score  split2_test_score  split3_test_score  split4_test_score  \\\n",
      "0           0.997364           0.996046           0.998242           0.996923   \n",
      "1           0.997364           0.996485           0.997802           0.996484   \n",
      "2           0.997364           0.996485           0.998242           0.996923   \n",
      "3           0.997364           0.996485           0.998242           0.996484   \n",
      "\n",
      "   mean_test_score  std_test_score  rank_test_score  \n",
      "0         0.996924        0.000833                4  \n",
      "1         0.997012        0.000512                3  \n",
      "2         0.997275        0.000583                1  \n",
      "3         0.997100        0.000658                2  \n",
      "model training complete with 99.75% accuracy on the training data\n"
     ]
    }
   ],
   "source": [
    "c_space = [34, 50]\n",
    "gamma_space = [0.009, 0.09]\n",
    "svm_fitting_params = {'C': c_space, 'gamma': gamma_space}\n",
    "\n",
    "accuracy = classifier.train_model(training_data, \n",
    "                                  training_labels, \n",
    "                                  epochs=200, \n",
    "                                  debug=True, \n",
    "                                  svm_fitting_params=svm_fitting_params, \n",
    "                                  batch_size=1000)\n",
    "\n",
    "print(f\"model training complete with {100*accuracy:.2f}% accuracy on the training data\")"
   ]
  },
  {
   "cell_type": "markdown",
   "metadata": {},
   "source": [
    "Print the model hyperparameters"
   ]
  },
  {
   "cell_type": "code",
   "execution_count": 6,
   "metadata": {},
   "outputs": [
    {
     "name": "stdout",
     "output_type": "stream",
     "text": [
      "C = 50, gamma = 0.009, kernel = rbf\n"
     ]
    }
   ],
   "source": [
    "print(\"C = {}, gamma = {}, kernel = {}\".format(classifier.model.C, classifier.model.gamma, classifier.model.kernel))"
   ]
  },
  {
   "cell_type": "markdown",
   "metadata": {},
   "source": [
    "Save the model"
   ]
  },
  {
   "cell_type": "code",
   "execution_count": 7,
   "metadata": {},
   "outputs": [],
   "source": [
    "# initialize the save path for the model\n",
    "model_path = os.path.abspath(r\"./generated_model\")\n",
    "\n",
    "# save the model\n",
    "classifier.save_model(model_path)"
   ]
  }
 ],
 "metadata": {
  "kernelspec": {
   "display_name": "Python 3",
   "language": "python",
   "name": "python3"
  },
  "language_info": {
   "codemirror_mode": {
    "name": "ipython",
    "version": 3
   },
   "file_extension": ".py",
   "mimetype": "text/x-python",
   "name": "python",
   "nbconvert_exporter": "python",
   "pygments_lexer": "ipython3",
   "version": "3.9.13"
  }
 },
 "nbformat": 4,
 "nbformat_minor": 2
}
